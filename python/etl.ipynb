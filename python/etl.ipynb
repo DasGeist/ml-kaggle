{
 "cells": [
  {
   "cell_type": "markdown",
   "metadata": {},
   "source": [
    "# Manipulação de Dados\n",
    "\n",
    "Após a aquisição dos dados, geralmente há muito esforço envolvido na manipulação destes para o facilitar/melhorar o processamento. Assume-se Python 3 no sistema Unix, e a preparação é simples\n",
    "\n",
    "```bash\n",
    "sudo pip3 install numpy pandas\n",
    "```"
   ]
  },
  {
   "cell_type": "markdown",
   "metadata": {},
   "source": [
    "## Numpy\n",
    "\n",
    "O [Numpy](https://numpy.org/) fornece [ferramentas eficientes](https://medium.com/ensina-ai/entendendo-a-biblioteca-numpy-4858fde63355) para manipulação em memória de dados. Isso é feito pela \"reestruturação\" da forma como os vetores homogêneos multidimensionais são tratados."
   ]
  },
  {
   "cell_type": "code",
   "execution_count": 1,
   "metadata": {},
   "outputs": [
    {
     "name": "stdout",
     "output_type": "stream",
     "text": [
      "100 loops, best of 5: 203 µs per loop\n"
     ]
    }
   ],
   "source": [
    "num_items = 1000\n",
    "\n",
    "python_array = range(num_items)\n",
    "%timeit -n 100 [i**2 for i in python_array]"
   ]
  },
  {
   "cell_type": "code",
   "execution_count": 2,
   "metadata": {},
   "outputs": [
    {
     "name": "stdout",
     "output_type": "stream",
     "text": [
      "The slowest run took 35.34 times longer than the fastest. This could mean that an intermediate result is being cached.\n",
      "100 loops, best of 5: 2.22 µs per loop\n"
     ]
    }
   ],
   "source": [
    "import numpy as np\n",
    "\n",
    "numpy_array = np.arange(num_items)\n",
    "%timeit -n 100 numpy_array**2"
   ]
  },
  {
   "cell_type": "code",
   "execution_count": 3,
   "metadata": {},
   "outputs": [
    {
     "name": "stdout",
     "output_type": "stream",
     "text": [
      "\n",
      "Produto simples\n",
      "[[ 0  1]\n",
      " [-4 -9]]\n",
      "\n",
      "Produto matricial\n",
      "[[-2 -3]\n",
      " [-6 -7]]\n"
     ]
    }
   ],
   "source": [
    "a = np.array([[0, 1], [2, 3]])\n",
    "b = np.array([[0, 1], [-2, -3]])\n",
    "\n",
    "# Operações [geralmente] são realizadas em cada elemento\n",
    "print('\\nProduto simples')\n",
    "print(a * b)\n",
    "\n",
    "print('\\nProduto matricial')\n",
    "print(a @ b) # a.dot(b)"
   ]
  },
  {
   "cell_type": "code",
   "execution_count": 4,
   "metadata": {},
   "outputs": [
    {
     "name": "stdout",
     "output_type": "stream",
     "text": [
      "Fusão horizontal\n",
      "[[ 0  1  0  1]\n",
      " [ 2  3 -2 -3]]\n",
      "\n",
      "Fusão vertical\n",
      "[[ 0  1]\n",
      " [ 2  3]\n",
      " [ 0  1]\n",
      " [-2 -3]]\n"
     ]
    }
   ],
   "source": [
    "print('Fusão horizontal')\n",
    "print(np.hstack((a, b)))\n",
    "\n",
    "print('\\nFusão vertical')\n",
    "print(np.vstack((a, b)))"
   ]
  },
  {
   "cell_type": "code",
   "execution_count": 5,
   "metadata": {},
   "outputs": [
    {
     "name": "stdout",
     "output_type": "stream",
     "text": [
      "Valores\n",
      "[ 0  1  4  9 16 25 36 49 64 81]\n",
      "\n",
      "Índices\n",
      "[1 1 3 8 5]\n",
      "\n",
      "Indexação\n",
      "[ 1  1  9 64 25]\n"
     ]
    }
   ],
   "source": [
    "print('Valores')\n",
    "a = np.arange(10)**2\n",
    "print(a)\n",
    "\n",
    "i = np.array([1, 1, 3, 8, 5])\n",
    "print('\\nÍndices')\n",
    "print(i)\n",
    "\n",
    "print('\\nIndexação')\n",
    "print(a[i])"
   ]
  },
  {
   "cell_type": "code",
   "execution_count": 6,
   "metadata": {},
   "outputs": [
    {
     "name": "stdout",
     "output_type": "stream",
     "text": [
      "Valores\n",
      "[[ 7 12  4  5]\n",
      " [ 1  6 11 10]\n",
      " [ 3  8  9  2]]\n",
      "\n",
      "Resultado do teste item a item\n",
      "[[False  True  True False]\n",
      " [False False False False]\n",
      " [False  True False False]]\n",
      "\n",
      "... que pode ser usado na indexação\n",
      "[12  4  8]\n",
      "\n",
      "Ou diretamente:\n",
      "[ 7 12  5  6 11 10  8  9]\n"
     ]
    }
   ],
   "source": [
    "import random\n",
    "\n",
    "nums = [x for x in range(1, 13)]\n",
    "random.shuffle(nums)\n",
    "\n",
    "a = np.array(nums).reshape(3, 4)\n",
    "print('Valores')\n",
    "print(a)\n",
    "\n",
    "multiplos_de_4 = (a % 4 == 0)\n",
    "print('\\nResultado do teste item a item')\n",
    "print(multiplos_de_4)\n",
    "\n",
    "print('\\n... que pode ser usado na indexação')\n",
    "print(a[multiplos_de_4])\n",
    "\n",
    "print('\\nOu diretamente:')\n",
    "print(a[a > 4])"
   ]
  },
  {
   "cell_type": "markdown",
   "metadata": {},
   "source": [
    "## Pandas\n",
    "\n",
    "[Pandas](https://pandas.pydata.org/) fornece implementações eficientes de estruturas de dados, especialmente [séries](https://pandas.pydata.org/pandas-docs/stable/reference/api/pandas.Series.html#pandas.Series) e [dataframes](https://pandas.pydata.org/pandas-docs/stable/reference/api/pandas.DataFrame.html#pandas.DataFrame). A [documentação](https://pandas.pydata.org/pandas-docs/stable/) é bem completa, e pode-se ter boas noções em apenas [10 minutos](https://pandas.pydata.org/pandas-docs/stable/getting_started/10min.html).\n",
    "\n",
    "Algumas das principais vantagens dessa estrutura de dados são:\n",
    "* indexação;\n",
    "* ferramentas de:\n",
    "  * manipulação de dados em memória e arquivo;\n",
    "  * manipulação de valores ausentes;\n",
    "  * manipulação de registros (colunas/linhas);\n",
    "  * [agregação de dados](https://towardsdatascience.com/how-not-to-write-pandas-code-ef88599c6e8f).\n"
   ]
  },
  {
   "cell_type": "markdown",
   "metadata": {},
   "source": [
    "# Pré-processamento\n",
    "\n",
    "O pré-processamento dos dados geralmente é a parte mais trabalhosa do processo de mineração. Não só pelo esforço de formatar os dados para que possam ser aplicados em alguma ferramenta (como o tratamento de valores ausentes, normalização de valores, etc.), mas também pela busca pela [engenharia de características](https://heartbeat.fritz.ai/a-practical-guide-to-feature-engineering-in-python-8326e40747c8) mais adequada ao seu caso."
   ]
  },
  {
   "cell_type": "markdown",
   "metadata": {},
   "source": [
    "## Extração de dados\n",
    "\n",
    "A primeira etapa do processo é a extração de dados dos sistemas de origem (bancos de dados, arquivos, sensores, etc.). No Kaggle, os arquivos são dados como [CSVs](https://pt.wikipedia.org/wiki/Comma-separated_values), portanto basta utilizar o comando [`read_csv`](https://pandas.pydata.org/pandas-docs/stable/reference/api/pandas.read_csv.html)."
   ]
  },
  {
   "cell_type": "code",
   "execution_count": 7,
   "metadata": {},
   "outputs": [],
   "source": [
    "import pandas as pd\n",
    "\n",
    "anoes = pd.read_csv('anoes.csv', index_col=0)\n",
    "outros = pd.read_csv('outros.csv', index_col=0)"
   ]
  },
  {
   "cell_type": "markdown",
   "metadata": {},
   "source": [
    "## Transformação de dados\n",
    "\n",
    "A segunda etapa consiste em transformar os dados extraídos em um formato adequado para o processamento. Isso pode envolver uma série de passos, como:\n",
    "* junção de dados de fontes distintas;\n",
    "* seleção das característcas de interesse (ex: retirando dados pouco úteis);\n",
    "* tradução de valores (ex: transformando valores categóricos em numéricos);\n",
    "* derivação de características (ex: criar um novo valor área = base * altura);"
   ]
  },
  {
   "cell_type": "code",
   "execution_count": 8,
   "metadata": {},
   "outputs": [],
   "source": [
    "# Junção de dados de fontes distintas;\n",
    "data = pd.concat((anoes, outros), sort=False)\n",
    "\n",
    "# Seleção das características de interesse\n",
    "data.dropna(inplace=True)\n",
    "\n",
    "# Derivação de características\n",
    "data['Área'] = data.Largura * data.Comprimento"
   ]
  },
  {
   "cell_type": "markdown",
   "metadata": {},
   "source": [
    "## Carregamento dos dados\n",
    "\n",
    "A fase de carregamento consiste em armazenar os dados transformados para facilitar o acesso em proecssamentos futuros."
   ]
  },
  {
   "cell_type": "code",
   "execution_count": 9,
   "metadata": {},
   "outputs": [],
   "source": [
    "data.to_csv('data.csv')"
   ]
  },
  {
   "cell_type": "markdown",
   "metadata": {},
   "source": [
    "Uma alternativa é usar o módulo [pickle](https://docs.python.org/3/library/pickle.html)."
   ]
  },
  {
   "cell_type": "code",
   "execution_count": 10,
   "metadata": {},
   "outputs": [],
   "source": [
    "import pickle\n",
    "\n",
    "with open('data.pickle', 'wb') as f:\n",
    "    pickle.dump(data, f)"
   ]
  },
  {
   "cell_type": "markdown",
   "metadata": {},
   "source": [
    "## Processamento\n",
    "\n",
    "Com os dados devidamente organizados, pode-se começar a buscar as respostas a perguntas relevantes."
   ]
  },
  {
   "cell_type": "code",
   "execution_count": 11,
   "metadata": {},
   "outputs": [
    {
     "name": "stdout",
     "output_type": "stream",
     "text": [
      "\n",
      "Príncipe é o maior latifundiário.\n",
      "\n",
      "Atchim, Zangado e Príncipe podem ter campos de futebol em sua(s) propriedade(s).\n"
     ]
    }
   ],
   "source": [
    "with open('data.pickle', 'rb') as f:\n",
    "    df = pickle.load(f)\n",
    "\n",
    "print(f'\\n{df[\"Área\"].idxmax()} é o maior latifundiário.')\n",
    "\n",
    "futebol = df[((100 <= df.Largura) & (64 <= df.Comprimento)) | \n",
    "             ((100 <= df.Comprimento) & (64 <= df.Largura))]\n",
    "\n",
    "#print(futebol)\n",
    "nomes = futebol.index.tolist()\n",
    "nomes = '{} e {}'.format(', '.join(nomes[:-1]), nomes[-1])\n",
    "print(f'\\n{nomes} podem ter campos de futebol em sua(s) propriedade(s).')"
   ]
  }
 ],
 "metadata": {
  "kernelspec": {
   "display_name": "Python 3",
   "language": "python",
   "name": "python3"
  },
  "language_info": {
   "codemirror_mode": {
    "name": "ipython",
    "version": 3
   },
   "file_extension": ".py",
   "mimetype": "text/x-python",
   "name": "python",
   "nbconvert_exporter": "python",
   "pygments_lexer": "ipython3",
   "version": "3.7.5"
  }
 },
 "nbformat": 4,
 "nbformat_minor": 2
}
