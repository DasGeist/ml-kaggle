{
 "cells": [
  {
   "cell_type": "markdown",
   "metadata": {},
   "source": [
    "# Python\n",
    "\n",
    "## Preparação\n",
    "\n",
    "A versão padrão é [Python 3](https://www.python.org/). Assume-se que o sistema operacional é Unix.\n",
    "\n",
    "```bash\n",
    "sudo apt install python3 python3-pip\n",
    "sudo pip3 install matplotlib pandas scikit-learn seaborn\n",
    "```\n",
    "\n",
    "## A Linguagem\n",
    "\n",
    "A [documentação](https://docs.python.org/3/) é bem extensa, e o melhor lugar para inicial é o [tutorial](https://docs.python.org/pt-br/3/tutorial/index.html). O [guia para iniciantes](https://wiki.python.org/moin/BeginnersGuide) (também [em Português](https://wiki.python.org/moin/PortugueseLanguage)) é outra fonte de recursos excelente. Uma boa escolha é passar pelo livro [Dive into Python](https://diveintopython3.problemsolving.io/).\n",
    "\n",
    "## [Python x C](https://wiki.python.org.br/ProgramadoresCaprendendoPython)\n",
    "\n",
    "Python é uma linguagem mais nova ([interpretada](https://pt.stackoverflow.com/a/77088)), que foi projetada com ênfase no esforço do programador sobre o esforço computacional, priorizando a legibilidade do código sobre a velocidade ou expressividade.\n",
    "\n",
    "* Escopos são definidos pela [identação](https://pt.wikibooks.org/wiki/Python/Conceitos_b%C3%A1sicos/Indenta%C3%A7%C3%A3o).\n",
    "* [Duck Typing](https://pt.wikipedia.org/wiki/Duck_typing) define a variável, e leva a uma abordagem de que [é mais fácil pedir perdão do que pedir permissão](http://aprenda-python.blogspot.com/2016/04/pedir-permissao-ou-pedir-perdao.html).\n",
    "* Expressões booleanas também consideram valores _[truthy/falsy](https://docs.python.org/pt-br/3/library/stdtypes.html)_ ([mais detalhes](https://www.freecodecamp.org/news/truthy-and-falsy-values-in-python/)).\n",
    "* C trabalha com variáveis (em \"endereços\"), Python com [objetos](https://docs.python.org/pt-br/3/reference/datamodel.html) (em \"referências\").\n",
    "* Em Python, [funções são objetos](https://dbader.org/blog/python-first-class-functions)!\n",
    "* Python gerencia a memória [automaticamente](https://wiki.python.org.br/FuncionamentoGarbageCollector).\n",
    "\n",
    "## Estruturas de Dados\n",
    "\n",
    "É importante entender o conceito de [imutabilidade](https://docs.python.org/pt-br/3/glossary.html#term-immutable). Números e strings têm comportamento similar a C, mas com algumas diferenças. [Inteiros](https://docs.python.org/pt-br/3/library/stdtypes.html#typesnumeric) têm precisão arbitrária (e ocupam quanto espaço for necessário/disponível). Reais são sempre armazenados no padrão [IEEE 754 de dupla precisão](https://docs.python.org/pt-br/3/tutorial/floatingpoint.html).\n",
    "\n",
    "Algumas [estruturas de dados](https://docs.python.org/pt-br/3/tutorial/datastructures.html) são mais interessantes.\n",
    "\n",
    "* [Listas](https://docs.python.org/pt-br/3/tutorial/introduction.html#lists) funcionam como vetores, mas podem armazenar elementos de tipos distintos. O _[slicing](https://docs.python.org/3/tutorial/introduction.html#strings)_ permite a manipulação de pedaços da lista com facilidade. São _[mutáveis](https://docs.python.org/pt-br/3/glossary.html#term-mutable)_.\n",
    "* [Tuplas](https://docs.python.org/pt-br/3/tutorial/datastructures.html#tuples-and-sequences) também são sequências ordenadas de elementos (possivelmente heterogêneos), mas são _imutáveis_.\n",
    "* [Conjuntos](https://docs.python.org/pt-br/3/tutorial/datastructures.html#sets) armazenam elementos únicos de forma bastante eficiente.\n",
    "* [Dicionários](https://docs.python.org/pt-br/3/tutorial/datastructures.html#dictionaries) definem um par chave:valor, mapeando os elementos (valores) por meio de chaves (não necessariamente numéricas).\n",
    "* Todas estas coleções permitem [compreensão de lista](https://pythonacademy.com.br/blog/list-comprehensions-no-python)!\n",
    "\n",
    "## Outros Recursos\n",
    "\n",
    "* [Machine Learning in Python](https://www.springboard.com/resources/learning-paths/machine-learning-python/)\n"
   ]
  }
 ],
 "metadata": {
  "kernelspec": {
   "display_name": "Python 3",
   "language": "python",
   "name": "python3"
  },
  "language_info": {
   "codemirror_mode": {
    "name": "ipython",
    "version": 3
   },
   "file_extension": ".py",
   "mimetype": "text/x-python",
   "name": "python",
   "nbconvert_exporter": "python",
   "pygments_lexer": "ipython3",
   "version": "3.7.3"
  }
 },
 "nbformat": 4,
 "nbformat_minor": 2
}
