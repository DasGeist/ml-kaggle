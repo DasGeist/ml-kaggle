{
 "cells": [
  {
   "cell_type": "markdown",
   "metadata": {},
   "source": [
    "# Python\n",
    "\n",
    "A versão padrão é [Python 3](https://www.python.org/), e assume-se que o sistema operacional é Unix\n",
    "\n",
    "A [documentação](https://docs.python.org/3/) é bem extensa, e o melhor lugar para inicial é o [tutorial](https://docs.python.org/pt-br/3/tutorial/index.html). O [guia para iniciantes](https://wiki.python.org/moin/BeginnersGuide) (também [em Português](https://wiki.python.org/moin/PortugueseLanguage)) é outra fonte de recursos excelente. Uma boa escolha é passar pelo livro [Dive into Python](https://diveintopython3.problemsolving.io/) (e por [Learn Python 3 the Hard Way](https://web.itu.edu.tr/hulyayalcin/MAK230E_PythonProgramming/%5B2014%5D%5BShaw%5DLEARNPYTHONTHE%20HARDWAY.pdf))."
   ]
  },
  {
   "cell_type": "markdown",
   "metadata": {},
   "source": [
    "\n",
    "\n",
    "## [Python x C](https://wiki.python.org.br/ProgramadoresCaprendendoPython)\n",
    "\n",
    "Python é uma linguagem mais nova ([interpretada](https://pt.stackoverflow.com/a/77088)), que foi projetada com ênfase no esforço do programador sobre o esforço computacional, priorizando a legibilidade do código sobre a velocidade ou expressividade.\n",
    "\n",
    "* Escopos são definidos pela [identação](https://pt.wikibooks.org/wiki/Python/Conceitos_b%C3%A1sicos/Indenta%C3%A7%C3%A3o).\n",
    "* [Duck Typing](https://pt.wikipedia.org/wiki/Duck_typing) define a variável, e leva a uma abordagem de que [é mais fácil pedir perdão do que pedir permissão](http://aprenda-python.blogspot.com/2016/04/pedir-permissao-ou-pedir-perdao.html).\n",
    "* Expressões booleanas também consideram valores _[truthy/falsy](https://docs.python.org/pt-br/3/library/stdtypes.html)_ ([mais detalhes](https://www.freecodecamp.org/news/truthy-and-falsy-values-in-python/)).\n",
    "* C trabalha com variáveis (em \"endereços\"), Python com [objetos](https://docs.python.org/pt-br/3/reference/datamodel.html) (em \"referências\").\n",
    "* Em Python, [funções são objetos](https://dbader.org/blog/python-first-class-functions)!\n",
    "* Python gerencia a memória [automaticamente](https://wiki.python.org.br/FuncionamentoGarbageCollector)."
   ]
  },
  {
   "cell_type": "code",
   "execution_count": 15,
   "metadata": {},
   "outputs": [
    {
     "name": "stdout",
     "output_type": "stream",
     "text": [
      "Escopo de execução (externo)\n",
      "Escopo do laço de repetição, x = 0 ... ainda no laço, x = 1\n",
      "Escopo do laço de repetição, x = 1 ... ainda no laço, x = 2\n",
      "Escopo do laço de repetição, x = 2 ... ainda no laço, x = 3\n",
      "Escopo do laço de repetição, x = 3 ... ainda no laço, x = 4\n",
      "Escopo do laço de repetição, x = 4 ... ainda no laço, x = 5\n",
      "Escopo de execução (externo)\n"
     ]
    }
   ],
   "source": [
    "# Escopo\n",
    "print('Escopo de execução (externo)')\n",
    "for x in range(5):\n",
    "    print('Escopo do laço de repetição, x =', x, end='')\n",
    "    x += 1\n",
    "    print(' ... ainda no laço, x =', x)\n",
    "print('Escopo de execução (externo)')"
   ]
  },
  {
   "cell_type": "code",
   "execution_count": 17,
   "metadata": {},
   "outputs": [
    {
     "name": "stdout",
     "output_type": "stream",
     "text": [
      "Neste momento, X é um <class 'int'>\n",
      "... e posso calcular X + 2 = 7\n",
      "\n",
      "Agora, X é um <class 'str'>\n",
      "... e *não* posso executar a operação \"X + 2\"\n"
     ]
    }
   ],
   "source": [
    "# Duck typing\n",
    "x = 5\n",
    "print('Neste momento, X é um', type(x))\n",
    "print('... e posso calcular X + 2 =', x + 2)\n",
    "\n",
    "x = 'Hello World!'\n",
    "print('\\nAgora, X é um', type(x))\n",
    "try:\n",
    "    print('... X + 2 é', x + 2)\n",
    "except:\n",
    "    print('... e *não* posso executar a operação \"X + 2\"')"
   ]
  },
  {
   "cell_type": "code",
   "execution_count": 5,
   "metadata": {},
   "outputs": [
    {
     "name": "stdout",
     "output_type": "stream",
     "text": [
      "Valores \"verdadeiros\"!\n",
      "Nenhum valor é \"verdadeiro\"!\n"
     ]
    }
   ],
   "source": [
    "# Expressões booleanas\n",
    "if 5 and 5 > 1 and True and 'Hello' and ['World'] and (0, 0) and {'resposta': 42}:\n",
    "    print('Valores \"verdadeiros\"!')\n",
    "\n",
    "\n",
    "if 0 or 0 > 1 or False or '' or [] or () or {} or None:\n",
    "    pass\n",
    "else:\n",
    "    print('Nenhum valor é \"verdadeiro\"!')"
   ]
  },
  {
   "cell_type": "code",
   "execution_count": 6,
   "metadata": {},
   "outputs": [
    {
     "name": "stdout",
     "output_type": "stream",
     "text": [
      "min([3, 1, 2]) -> 1\n",
      "min([1, 2, 3]) -> 1\n",
      "min([3, 2, 1]) -> 1\n"
     ]
    }
   ],
   "source": [
    "# Funções como objetos\n",
    "def aplica(funcao, dado):\n",
    "    print('{}({}) -> '.format(funcao.__name__, dado), end='')\n",
    "    return funcao(dado) \n",
    "\n",
    "func = min\n",
    "print(aplica(min, [3, 1, 2]))\n",
    "print(aplica(func, [1, 2, 3]))\n",
    "print('min({}) -> {}'.format([3, 2, 1], func([3, 2, 1])))\n",
    "\n",
    "# Analogamente\n",
    "#func = max\n",
    "#print(aplica(max, [3, 1, 2]))\n",
    "#print(aplica(func, [1, 2, 3]))\n",
    "#print('max({}) -> {}'.format([3, 2, 1], func([3, 2, 1])))"
   ]
  },
  {
   "cell_type": "markdown",
   "metadata": {},
   "source": [
    "Embora se possa gerar programas estruturalmente parecidos nas duas linguagens, Python oferece uma série de vantagens, que tendem a serem bem [mais amigáveis](https://towardsdatascience.com/how-to-be-pythonic-and-why-you-should-care-188d63a5037e) ao entendimento (e, por vezes, mais eficientes). Por exemplo, veja as seguintes soluções para se somar uma série de número e outra para contar as letras de um string:"
   ]
  },
  {
   "cell_type": "code",
   "execution_count": 18,
   "metadata": {},
   "outputs": [
    {
     "name": "stdout",
     "output_type": "stream",
     "text": [
      "500500\n",
      "500500\n"
     ]
    }
   ],
   "source": [
    "# Estilo C\n",
    "a = 0\n",
    "soma = 0\n",
    "while a <= 1000:\n",
    "    soma += a\n",
    "    a += 1\n",
    "print(soma)\n",
    "    \n",
    "# Estilo \"Pythônico\"\n",
    "print(sum(range(1001)))"
   ]
  },
  {
   "cell_type": "code",
   "execution_count": 8,
   "metadata": {},
   "outputs": [
    {
     "name": "stdout",
     "output_type": "stream",
     "text": [
      "(5, 37)\n",
      "(5, 37)\n"
     ]
    }
   ],
   "source": [
    "# Estilo C\n",
    "def conta_letras_c(letras):\n",
    "    maiusc = 0\n",
    "    minusc = 0\n",
    "    for i in range(len(letras)):\n",
    "        if 'A' <= letras[i] and letras[i] <='Z':\n",
    "            maiusc += 1\n",
    "        elif 'a' <= letras[i] and letras[i] <='z':\n",
    "            minusc += 1\n",
    "    return maiusc, minusc\n",
    "\n",
    "\n",
    "# Estilo \"Pythônico\"\n",
    "def conta_letras_p(letras):\n",
    "     maiusc = sum(1 for letra in letras if letra.isupper())\n",
    "     minusc = sum(1 for letra in letras if letra.islower())\n",
    "     return maiusc, minusc\n",
    "\n",
    "string = 'Um pequeno Jabuti xereta viu DEZ cegonhas felizes'\n",
    "print(conta_letras_c(string))\n",
    "print(conta_letras_p(string))"
   ]
  },
  {
   "cell_type": "markdown",
   "metadata": {},
   "source": [
    "## Estruturas de Dados\n",
    "\n",
    "É importante entender o conceito de [imutabilidade](https://docs.python.org/pt-br/3/glossary.html#term-immutable). Números e strings têm comportamento similar a C, mas com algumas diferenças. [Inteiros](https://docs.python.org/pt-br/3/library/stdtypes.html#typesnumeric) têm precisão arbitrária (e ocupam quanto espaço for necessário/disponível). Reais são sempre armazenados no padrão [IEEE 754 de dupla precisão](https://docs.python.org/pt-br/3/tutorial/floatingpoint.html).\n",
    "\n",
    "Algumas [estruturas de dados](https://docs.python.org/pt-br/3/tutorial/datastructures.html) são mais interessantes.\n",
    "\n",
    "* [Listas](https://docs.python.org/pt-br/3/tutorial/introduction.html#lists) lembram o funcionamento de vetores, mas podem armazenar elementos de tipos distintos e são _[mutáveis](https://docs.python.org/pt-br/3/glossary.html#term-mutable)_ ([mais detalhes](https://www.codementor.io/@sheena/python-lists-in-depth-lrtmk7w4q)). _[Slicing](https://docs.python.org/3/tutorial/introduction.html#strings)_ permite a manipulação de pedaços da lista com facilidade.\n",
    "* [Tuplas](https://docs.python.org/pt-br/3/tutorial/datastructures.html#tuples-and-sequences) também são sequências ordenadas de elementos (possivelmente heterogêneos), mas são _imutáveis_.\n",
    "* [Conjuntos](https://docs.python.org/pt-br/3/tutorial/datastructures.html#sets) armazenam elementos únicos de forma bastante eficiente.\n",
    "* [Dicionários](https://docs.python.org/pt-br/3/tutorial/datastructures.html#dictionaries) definem um par chave:valor, mapeando os elementos (valores) por meio de chaves (não necessariamente numéricas).\n",
    "* Todas estas coleções permitem [compreensão de lista](https://pythonacademy.com.br/blog/list-comprehensions-no-python)!\n",
    "* A manipulação é feita com o [objeto _file_](https://docs.python.org/3.8/tutorial/inputoutput.html#reading-and-writing-files)."
   ]
  },
  {
   "cell_type": "markdown",
   "metadata": {},
   "source": [
    "## Exercícios\n",
    "\n",
    "1. Dado um arquivo texto, cudos dados estão organizados um por linha, leia seu conteúdo e crie um novo arquivo contendo apenas os CPFs válidos, listados em ordem decrescente. Aqui, um CPF é válido quando segue o seguinte formato: `###.###.###-##` (na verdade, é um [pouco mais complicado](https://www.geradorcpf.com/algoritmo_do_cpf.htm)). Exemplo de arquivo:\n",
    "\n",
    "| cpfs.txt                | ordenados.txt    |\n",
    "| ----------------------- | ---------------- |\n",
    "| `123`                   | `555.555.555-55` |\n",
    "| `555.555.555-55`        | `123.456.789-01` |\n",
    "| `um.email@aluno.unb.br` |                  |\n",
    "| `123.456.789-01`        |                  |\n",
    "\n",
    "2. Dado um arquivo [HTML](https://matriculaweb.unb.br/graduacao/fluxo.aspx?cod=9296) com o fluxo de algum curso oferecido na UnB, extraia as informações relevantes e as organize em dicionário(s) (período, código da disciplina, nome e carga horária).\n",
    "1. Curso de Python do [Kaggle](https://www.kaggle.com/learn/python)."
   ]
  }
 ],
 "metadata": {
  "kernelspec": {
   "display_name": "Python 3",
   "language": "python",
   "name": "python3"
  },
  "language_info": {
   "codemirror_mode": {
    "name": "ipython",
    "version": 3
   },
   "file_extension": ".py",
   "mimetype": "text/x-python",
   "name": "python",
   "nbconvert_exporter": "python",
   "pygments_lexer": "ipython3",
   "version": "3.7.3"
  }
 },
 "nbformat": 4,
 "nbformat_minor": 2
}
