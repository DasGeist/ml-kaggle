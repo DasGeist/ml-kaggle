{
 "cells": [
  {
   "cell_type": "markdown",
   "metadata": {},
   "source": [
    "# Manipulação de Dados\n",
    "\n",
    "Após a aquisição dos dados, geralmente há muito esforço envolvido na manipulação destes para o facilitar/melhorar o processamento. Assume-se Python 3 no sistema Unix, e a preparação é simples\n",
    "\n",
    "```bash\n",
    "sudo pip3 install numpy pandas\n",
    "```"
   ]
  },
  {
   "cell_type": "markdown",
   "metadata": {},
   "source": [
    "## Numpy\n",
    "\n",
    "O [Numpy](https://numpy.org/) fornece [ferramentas eficientes](https://medium.com/ensina-ai/entendendo-a-biblioteca-numpy-4858fde63355) para manipulação em memória de dados. Isso é feito pela \"reestruturação\" da forma como os vetores homogêneos multidimensionais são tratados."
   ]
  },
  {
   "cell_type": "code",
   "execution_count": 1,
   "metadata": {},
   "outputs": [
    {
     "name": "stdout",
     "output_type": "stream",
     "text": [
      "100 loops, best of 5: 208 µs per loop\n"
     ]
    }
   ],
   "source": [
    "num_items = 1000\n",
    "\n",
    "python_array = range(num_items)\n",
    "%timeit -n 100 [i**2 for i in python_array]"
   ]
  },
  {
   "cell_type": "code",
   "execution_count": 2,
   "metadata": {},
   "outputs": [
    {
     "name": "stdout",
     "output_type": "stream",
     "text": [
      "100 loops, best of 5: 1.04 µs per loop\n"
     ]
    }
   ],
   "source": [
    "import numpy as np\n",
    "\n",
    "numpy_array = np.arange(num_items)\n",
    "%timeit -n 100 numpy_array**2"
   ]
  },
  {
   "cell_type": "code",
   "execution_count": 3,
   "metadata": {},
   "outputs": [
    {
     "name": "stdout",
     "output_type": "stream",
     "text": [
      "\n",
      "Produto simples\n",
      "[[ 0  1]\n",
      " [-4 -9]]\n",
      "\n",
      "Produto matricial\n",
      "[[-2 -3]\n",
      " [-6 -7]]\n"
     ]
    }
   ],
   "source": [
    "a = np.array([[0, 1], [2, 3]])\n",
    "b = np.array([[0, 1], [-2, -3]])\n",
    "\n",
    "# Operações [geralmente] são realizadas em cada elemento\n",
    "print('\\nProduto simples')\n",
    "print(a * b)\n",
    "\n",
    "print('\\nProduto matricial')\n",
    "print(a @ b) # a.dot(b)"
   ]
  },
  {
   "cell_type": "code",
   "execution_count": 4,
   "metadata": {},
   "outputs": [
    {
     "name": "stdout",
     "output_type": "stream",
     "text": [
      "Fusão horizontal\n",
      "[[ 0  1  0  1]\n",
      " [ 2  3 -2 -3]]\n",
      "\n",
      "Fusão vertical\n",
      "[[ 0  1]\n",
      " [ 2  3]\n",
      " [ 0  1]\n",
      " [-2 -3]]\n"
     ]
    }
   ],
   "source": [
    "print('Fusão horizontal')\n",
    "print(np.hstack((a, b)))\n",
    "\n",
    "print('\\nFusão vertical')\n",
    "print(np.vstack((a, b)))"
   ]
  },
  {
   "cell_type": "code",
   "execution_count": 5,
   "metadata": {},
   "outputs": [
    {
     "name": "stdout",
     "output_type": "stream",
     "text": [
      "Valores\n",
      "[ 0  1  4  9 16 25 36 49 64 81]\n",
      "\n",
      "Índices\n",
      "[1 1 3 8 5]\n",
      "\n",
      "Indexação\n",
      "[ 1  1  9 64 25]\n"
     ]
    }
   ],
   "source": [
    "print('Valores')\n",
    "a = np.arange(10)**2\n",
    "print(a)\n",
    "\n",
    "i = np.array([1, 1, 3, 8, 5])\n",
    "print('\\nÍndices')\n",
    "print(i)\n",
    "\n",
    "print('\\nIndexação')\n",
    "print(a[i])"
   ]
  },
  {
   "cell_type": "code",
   "execution_count": 6,
   "metadata": {},
   "outputs": [
    {
     "name": "stdout",
     "output_type": "stream",
     "text": [
      "Valores\n",
      "[[10  1  2  6]\n",
      " [ 3  7  4  9]\n",
      " [ 5 12  8 11]]\n",
      "\n",
      "Resultado do teste item a item\n",
      "[[False False False False]\n",
      " [False False  True False]\n",
      " [False  True  True False]]\n",
      "\n",
      "... que pode ser usado na indexação\n",
      "[ 4 12  8]\n",
      "\n",
      "Ou diretamente:\n",
      "[10  6  7  9  5 12  8 11]\n"
     ]
    }
   ],
   "source": [
    "import random\n",
    "\n",
    "nums = [x for x in range(1, 13)]\n",
    "random.shuffle(nums)\n",
    "\n",
    "a = np.array(nums).reshape(3, 4)\n",
    "print('Valores')\n",
    "print(a)\n",
    "\n",
    "multiplos_de_4 = (a % 4 == 0)\n",
    "print('\\nResultado do teste item a item')\n",
    "print(multiplos_de_4)\n",
    "\n",
    "print('\\n... que pode ser usado na indexação')\n",
    "print(a[multiplos_de_4])\n",
    "\n",
    "print('\\nOu diretamente:')\n",
    "print(a[a > 4])"
   ]
  },
  {
   "cell_type": "markdown",
   "metadata": {},
   "source": [
    "## Pandas\n",
    "\n",
    "[Pandas](https://pandas.pydata.org/) fornece implementações eficientes de estruturas de dados, especialmente [séries](https://pandas.pydata.org/pandas-docs/stable/reference/api/pandas.Series.html#pandas.Series) e [dataframes](https://pandas.pydata.org/pandas-docs/stable/reference/api/pandas.DataFrame.html#pandas.DataFrame). A [documentação](https://pandas.pydata.org/pandas-docs/stable/) é bem completa, e pode-se ter boas noções em apenas [10 minutos](https://pandas.pydata.org/pandas-docs/stable/getting_started/10min.html).\n",
    "\n",
    "Algumas das principais vantagens dessa estrutura de dados são:\n",
    "* indexação;\n",
    "* ferramentas de:\n",
    "  * manipulação de dados em memória e arquivo;\n",
    "  * manipulação de valores ausentes;\n",
    "  * manipulação de registros (colunas/linhas);\n",
    "  * agregação de dados;\n",
    "\n",
    "* [How NOT to write pandas code](https://towardsdatascience.com/how-not-to-write-pandas-code-ef88599c6e8f)"
   ]
  },
  {
   "cell_type": "markdown",
   "metadata": {},
   "source": [
    "# Pré-processamento\n",
    "\n",
    "O pré-processamento dos dados geralmente é a parte mais trabalhosa do processo de mineração. Não só pelo esforço de formatar os dados para que possam ser aplicados em alguma ferramenta (como o tratamento de valores ausentes, normalização de valores, etc.), mas também pela busca pela [engenharia de características](https://heartbeat.fritz.ai/a-practical-guide-to-feature-engineering-in-python-8326e40747c8) mais adequada ao seu caso.\n",
    "\n",
    "## Extração de dados\n",
    "\n",
    "A primeira etapa do processo é a extração de dados dos sistemas de origem (bancos de dados, arquivos, sensores, etc.). No Kaggle, os arquivos são dados como [CSVs](https://pt.wikipedia.org/wiki/Comma-separated_values), portanto basta utilizar o comando [`read_csv`](https://pandas.pydata.org/pandas-docs/stable/reference/api/pandas.read_csv.html)."
   ]
  },
  {
   "cell_type": "code",
   "execution_count": 7,
   "metadata": {},
   "outputs": [
    {
     "name": "stdout",
     "output_type": "stream",
     "text": [
      "              Largura  Comprimento\n",
      "Proprietário                      \n",
      "Atchim            100           64\n",
      "Dengoso            60          100\n",
      "Dunga              90           90\n",
      "Feliz              30           70\n",
      "Mestre             20           20\n",
      "Soneca             20           80\n",
      "Zangado            64          100\n"
     ]
    }
   ],
   "source": [
    "import pandas as pd\n",
    "\n",
    "data = pd.read_csv('lotes.csv', index_col=0)\n",
    "print(data)"
   ]
  },
  {
   "cell_type": "markdown",
   "metadata": {},
   "source": [
    "## Transformação de dados\n",
    "\n",
    "A segunda etapa consiste em transformar os dados extraídos em um formato adequado para o processamento. Isso pode envolver uma série de passos, como:\n",
    "* junção de dados de fontes distintas;\n",
    "* seleção das característcas de interesse (ex: retirando dados pouco úteis);\n",
    "* tradução de valores (ex: transformando valores categóricos em numéricos);\n",
    "* derivação de características (ex: criar um novo valor área = base * altura);"
   ]
  },
  {
   "cell_type": "code",
   "execution_count": 8,
   "metadata": {},
   "outputs": [
    {
     "name": "stdout",
     "output_type": "stream",
     "text": [
      "Dunga é o maior latifundiário.\n",
      "\n",
      "\n",
      "Atchim, Zangado podem ter campos de futebol em sua(s) propriedade(s).\n"
     ]
    }
   ],
   "source": [
    "data['Área'] = data.Largura * data.Comprimento\n",
    "print(f'{data[\"Área\"].idxmax()} é o maior latifundiário.\\n')\n",
    "\n",
    "futebol = data[((100 <= data.Largura) & (64 <= data.Comprimento)) | \n",
    "               ((100 <= data.Comprimento) & (64 <= data.Largura))]\n",
    "\n",
    "#print(futebol)\n",
    "nomes = ', '.join(futebol.index.tolist())\n",
    "print(f'\\n{nomes} podem ter campos de futebol em sua(s) propriedade(s).')"
   ]
  },
  {
   "cell_type": "markdown",
   "metadata": {},
   "source": [
    "## Carregamento dos dados\n",
    "\n",
    "A fase de carregamento consiste em armazenar os dados transformados para facilitar o acesso em proecssamentos futuros."
   ]
  }
 ],
 "metadata": {
  "kernelspec": {
   "display_name": "Python 3",
   "language": "python",
   "name": "python3"
  },
  "language_info": {
   "codemirror_mode": {
    "name": "ipython",
    "version": 3
   },
   "file_extension": ".py",
   "mimetype": "text/x-python",
   "name": "python",
   "nbconvert_exporter": "python",
   "pygments_lexer": "ipython3",
   "version": "3.7.3"
  }
 },
 "nbformat": 4,
 "nbformat_minor": 2
}
