{
 "cells": [
  {
   "cell_type": "markdown",
   "metadata": {},
   "source": [
    "# Manipulação de Dados\n",
    "\n",
    "Após a aquisição dos dados, geralmente há muito esforço envolvido na manipulação destes para o facilitar/melhorar o processamento."
   ]
  },
  {
   "cell_type": "markdown",
   "metadata": {},
   "source": [
    "## Numpy\n",
    "\n",
    "O [Numpy](https://numpy.org/) fornece [ferramentas eficientes](https://medium.com/ensina-ai/entendendo-a-biblioteca-numpy-4858fde63355) para manipulação em memória de dados. Isso é feito pela \"reestruturação\" da forma como os vetores multidimensionais são tratados."
   ]
  },
  {
   "cell_type": "code",
   "execution_count": 7,
   "metadata": {},
   "outputs": [
    {
     "name": "stdout",
     "output_type": "stream",
     "text": [
      "100 loops, best of 5: 199 µs per loop\n"
     ]
    }
   ],
   "source": [
    "num_items = 1000\n",
    "\n",
    "python_array = range(num_items)\n",
    "%timeit -n 100 [i**2 for i in python_array]"
   ]
  },
  {
   "cell_type": "code",
   "execution_count": 8,
   "metadata": {},
   "outputs": [
    {
     "name": "stdout",
     "output_type": "stream",
     "text": [
      "\n",
      "Numpy\n",
      "The slowest run took 6.95 times longer than the fastest. This could mean that an intermediate result is being cached.\n",
      "100 loops, best of 5: 994 ns per loop\n"
     ]
    }
   ],
   "source": [
    "import numpy as np\n",
    "\n",
    "numpy_array = np.arange(num_items)\n",
    "print('\\nNumpy')\n",
    "%timeit -n 100 numpy_array**2"
   ]
  },
  {
   "cell_type": "markdown",
   "metadata": {},
   "source": [
    "## Scipy\n",
    "\n",
    "O [Scipy](http://www.scipy.org/) fornece ferramentas eficientes para processamento dos dados."
   ]
  },
  {
   "cell_type": "code",
   "execution_count": null,
   "metadata": {},
   "outputs": [],
   "source": []
  },
  {
   "cell_type": "markdown",
   "metadata": {},
   "source": [
    "## Pandas\n",
    "\n",
    "[Pandas](https://pandas.pydata.org/) fornece implementações eficientes de estruturas de dados, especialmente [séries](https://pandas.pydata.org/pandas-docs/stable/reference/api/pandas.Series.html#pandas.Series) e [dataframes](https://pandas.pydata.org/pandas-docs/stable/reference/api/pandas.DataFrame.html#pandas.DataFrame). A [documentação](https://pandas.pydata.org/pandas-docs/stable/) é bem completa, e pode-se ter boas noções em apenas [10 minutos](https://pandas.pydata.org/pandas-docs/stable/getting_started/10min.html).\n",
    "\n",
    "* [How NOT to write pandas code](https://towardsdatascience.com/how-not-to-write-pandas-code-ef88599c6e8f)"
   ]
  },
  {
   "cell_type": "code",
   "execution_count": null,
   "metadata": {},
   "outputs": [],
   "source": []
  },
  {
   "cell_type": "markdown",
   "metadata": {},
   "source": [
    "# Pré-processamento\n",
    "\n",
    "O pré-processamento dos dados geralmente é a parte mais trabalhosa do processo de mineração. Não só pelo esforço de formatar os dados para que possam ser aplicados em alguma ferramenta (como o tratamento de valores ausentes, normalização de valores, etc.), mas também pela busca pela [engenharia de características](https://heartbeat.fritz.ai/a-practical-guide-to-feature-engineering-in-python-8326e40747c8) mais adequada ao seu caso."
   ]
  }
 ],
 "metadata": {
  "kernelspec": {
   "display_name": "Python 3",
   "language": "python",
   "name": "python3"
  },
  "language_info": {
   "codemirror_mode": {
    "name": "ipython",
    "version": 3
   },
   "file_extension": ".py",
   "mimetype": "text/x-python",
   "name": "python",
   "nbconvert_exporter": "python",
   "pygments_lexer": "ipython3",
   "version": "3.7.3"
  }
 },
 "nbformat": 4,
 "nbformat_minor": 2
}
